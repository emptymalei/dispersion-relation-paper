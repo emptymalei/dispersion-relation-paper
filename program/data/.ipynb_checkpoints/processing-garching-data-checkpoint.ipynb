{
 "cells": [
  {
   "cell_type": "code",
   "execution_count": 1,
   "metadata": {
    "ExecuteTime": {
     "end_time": "2017-06-22T21:31:45.743895Z",
     "start_time": "2017-06-22T21:31:44.135741Z"
    },
    "collapsed": true
   },
   "outputs": [],
   "source": [
    "import pandas as pd\n",
    "\n",
    "import numpy as np\n",
    "import matplotlib.pyplot as plt\n",
    "\n",
    "import matplotlib\n",
    "\n",
    "matplotlib.style.use('ggplot')"
   ]
  },
  {
   "cell_type": "markdown",
   "metadata": {},
   "source": [
    "Data is obtained at\n",
    "\n",
    "`http://wwwmpa.mpa-garching.mpg.de/ccsnarchive/data/Tamborra2017/`\n",
    "\n",
    "for 15 solar mass supernova at 280ms\n",
    "\n",
    "\n",
    "```\n",
    "b) Angular emission properties\n",
    "\n",
    "t = 150 ms\n",
    "\n",
    "Angle- and radius-dependent neutrino properties (150 ms, electron neutrino)\n",
    "Angle- and radius-dependent neutrino properties (150 ms, electron antineutrino)\n",
    "Angle- and radius-dependent neutrino properties (150 ms, mu,tau neutrino)\n",
    "t = 280 ms\n",
    "\n",
    "Angle- and radius-dependent neutrino properties (280 ms, electron neutrino)\n",
    "Angle- and radius-dependent neutrino properties (280 ms, electron antineutrino)\n",
    "Angle- and radius-dependent neutrino properties (280 ms, mu,tau neutrino)\n",
    "```\n"
   ]
  },
  {
   "cell_type": "code",
   "execution_count": 2,
   "metadata": {
    "ExecuteTime": {
     "end_time": "2017-06-22T21:31:52.580277Z",
     "start_time": "2017-06-22T21:31:46.492384Z"
    }
   },
   "outputs": [
    {
     "name": "stderr",
     "output_type": "stream",
     "text": [
      "/Users/leima/anaconda/lib/python2.7/site-packages/ipykernel_launcher.py:3: ParserWarning: Falling back to the 'python' engine because the 'c' engine does not support regex separators (separators > 1 char and different from '\\s+' are interpreted as regex); you can avoid this warning by specifying engine='python'.\n",
      "  This is separate from the ipykernel package so we can avoid doing imports until\n",
      "/Users/leima/anaconda/lib/python2.7/site-packages/ipykernel_launcher.py:7: ParserWarning: Falling back to the 'python' engine because the 'c' engine does not support regex separators (separators > 1 char and different from '\\s+' are interpreted as regex); you can avoid this warning by specifying engine='python'.\n",
      "  import sys\n"
     ]
    }
   ],
   "source": [
    "with open('angular_quantities_nue_280ms_15Msun.dat') as f:\n",
    "    nue = pd.read_table(f, sep='   ', skiprows = [0,1,2], header=None, names=['Distance', 'u', '0 moment', '1 moment', '2 moment','density'], \n",
    "                          lineterminator='\\n', index_col=False)\n",
    "    \n",
    "with open('angular_quantities_nuebar_280ms_15Msun.dat') as f:\n",
    "    nuebar = pd.read_table(f, sep='   ', skiprows = [0,1,2], header=None, names=['Distance', 'u', '0 moment', '1 moment', '2 moment','density'], \n",
    "                          lineterminator='\\n', index_col=False)"
   ]
  },
  {
   "cell_type": "code",
   "execution_count": 3,
   "metadata": {
    "ExecuteTime": {
     "end_time": "2017-06-22T21:31:52.675387Z",
     "start_time": "2017-06-22T21:31:52.584939Z"
    },
    "collapsed": true
   },
   "outputs": [],
   "source": [
    "nue37 = nue[ nue['Distance']==37.08]\n",
    "nuebar37 = nuebar[ nuebar['Distance']==37.08]"
   ]
  },
  {
   "cell_type": "code",
   "execution_count": 4,
   "metadata": {
    "ExecuteTime": {
     "end_time": "2017-06-22T21:31:52.723471Z",
     "start_time": "2017-06-22T21:31:52.677955Z"
    },
    "collapsed": true
   },
   "outputs": [],
   "source": [
    "nue37array = np.array([\n",
    "    nue37['u'].tolist(),\n",
    "    nue37['density'].tolist()\n",
    "])\n",
    "nuebar37array = np.array([\n",
    "    nuebar37['u'].tolist(),\n",
    "    nuebar37['density'].tolist()\n",
    "])"
   ]
  },
  {
   "cell_type": "code",
   "execution_count": 5,
   "metadata": {
    "ExecuteTime": {
     "end_time": "2017-06-22T21:31:52.734314Z",
     "start_time": "2017-06-22T21:31:52.727964Z"
    },
    "collapsed": true
   },
   "outputs": [],
   "source": [
    "nuediff37array = np.array([nue37array[0], nue37array[1] - nuebar37array[1]])"
   ]
  },
  {
   "cell_type": "code",
   "execution_count": 6,
   "metadata": {
    "ExecuteTime": {
     "end_time": "2017-06-22T21:31:52.748274Z",
     "start_time": "2017-06-22T21:31:52.741102Z"
    }
   },
   "outputs": [
    {
     "name": "stdout",
     "output_type": "stream",
     "text": [
      "((824,), (824,))\n",
      "((824,), (824,))\n"
     ]
    }
   ],
   "source": [
    "print(nue37array[0].shape,nue37array[1].shape)\n",
    "print(nuebar37array[0].shape,nuebar37array[1].shape)"
   ]
  },
  {
   "cell_type": "code",
   "execution_count": 7,
   "metadata": {
    "ExecuteTime": {
     "end_time": "2017-06-22T21:31:53.104798Z",
     "start_time": "2017-06-22T21:31:52.751189Z"
    }
   },
   "outputs": [
    {
     "data": {
      "image/png": "[encoded data removed]",
      "text/plain": [
       "<matplotlib.figure.Figure at 0x1100aabd0>"
      ]
     },
     "metadata": {},
     "output_type": "display_data"
    }
   ],
   "source": [
    "nue37plt = plt.plot(nue37array[0], nue37array[1])\n",
    "plt.show()"
   ]
  },
  {
   "cell_type": "code",
   "execution_count": 8,
   "metadata": {
    "ExecuteTime": {
     "end_time": "2017-06-22T21:31:53.407111Z",
     "start_time": "2017-06-22T21:31:53.106819Z"
    }
   },
   "outputs": [
    {
     "data": {
      "image/png": "[encoded data removed]",
      "text/plain": [
       "<matplotlib.figure.Figure at 0x117de0d90>"
      ]
     },
     "metadata": {},
     "output_type": "display_data"
    }
   ],
   "source": [
    "nuebar37plt = plt.plot(nuebar37array[0], nuebar37array[1])\n",
    "plt.show()"
   ]
  },
  {
   "cell_type": "code",
   "execution_count": 9,
   "metadata": {
    "ExecuteTime": {
     "end_time": "2017-06-22T21:31:53.821454Z",
     "start_time": "2017-06-22T21:31:53.409659Z"
    }
   },
   "outputs": [
    {
     "data": {
      "image/png": "[encoded data removed]",
      "text/plain": [
       "<matplotlib.figure.Figure at 0x117ca0850>"
      ]
     },
     "metadata": {},
     "output_type": "display_data"
    }
   ],
   "source": [
    "nuediff37plt = plt.plot(nuediff37array[0], nuediff37array[1])\n",
    "plt.show()\n"
   ]
  },
  {
   "cell_type": "code",
   "execution_count": 89,
   "metadata": {
    "collapsed": true
   },
   "outputs": [],
   "source": [
    "np.savetxt('nuediff37array.csv',nuediff37array, delimiter=\",\")"
   ]
  },
  {
   "cell_type": "markdown",
   "metadata": {},
   "source": [
    "## Fake Data to Test Matlab Two Dimensional Data Fitting\n",
    "\n",
    "Generate some fake data to test matlab two dimensional data fitting"
   ]
  },
  {
   "cell_type": "code",
   "execution_count": 27,
   "metadata": {
    "ExecuteTime": {
     "end_time": "2017-06-22T22:01:54.989016Z",
     "start_time": "2017-06-22T22:01:54.981454Z"
    },
    "collapsed": true
   },
   "outputs": [],
   "source": [
    "fakeu = np.array([-1.    , -0.9242, -0.6628   ,  0.5826, 0.841 ,  0.9995])\n",
    "fakeg = np.array([  1.29900000e+31,   1.40400000e+31,   1.50400000e+31,  9.35000000e+31,   6.27000000e+31,   5.91000000e+31])/(1e+31)\n",
    "\n",
    "fakephi = np.array([0, 2*np.pi/6, 2*np.pi/3, 6*np.pi/6, 7*2*np.pi/6, 8*2*np.pi/6])"
   ]
  },
  {
   "cell_type": "code",
   "execution_count": 29,
   "metadata": {
    "ExecuteTime": {
     "end_time": "2017-06-22T22:02:00.054179Z",
     "start_time": "2017-06-22T22:02:00.045232Z"
    }
   },
   "outputs": [
    {
     "data": {
      "text/plain": [
       "(array([-1.    , -0.9242, -0.6628,  0.5826,  0.841 ,  0.9995]),\n",
       " array([ 1.299,  1.404,  1.504,  9.35 ,  6.27 ,  5.91 ]),\n",
       " array([ 0.        ,  1.04719755,  2.0943951 ,  3.14159265,  7.33038286,\n",
       "         8.37758041]))"
      ]
     },
     "execution_count": 29,
     "metadata": {},
     "output_type": "execute_result"
    }
   ],
   "source": [
    "fakeu, fakeg, fakephi"
   ]
  },
  {
   "cell_type": "code",
   "execution_count": 60,
   "metadata": {
    "ExecuteTime": {
     "end_time": "2017-06-22T22:13:38.482767Z",
     "start_time": "2017-06-22T22:13:38.479130Z"
    },
    "collapsed": true
   },
   "outputs": [],
   "source": [
    "matlabphi = np.repeat( fakephi, len(fakeu) )"
   ]
  },
  {
   "cell_type": "code",
   "execution_count": 61,
   "metadata": {
    "ExecuteTime": {
     "end_time": "2017-06-22T22:13:38.816130Z",
     "start_time": "2017-06-22T22:13:38.811360Z"
    },
    "collapsed": true
   },
   "outputs": [],
   "source": [
    "matlabu = fakeu\n",
    "\n",
    "for i in range(len(fakeu)-1):\n",
    "    matlabu = np.append(matlabu,fakeu)"
   ]
  },
  {
   "cell_type": "code",
   "execution_count": 62,
   "metadata": {
    "ExecuteTime": {
     "end_time": "2017-06-22T22:13:39.154478Z",
     "start_time": "2017-06-22T22:13:39.149451Z"
    },
    "collapsed": true
   },
   "outputs": [],
   "source": [
    "matlabg = fakeg\n",
    "\n",
    "for i in range(len(fakeu)-1):\n",
    "    matlabg = np.append(matlabg,fakeg*fakephi* (i**2)  )"
   ]
  },
  {
   "cell_type": "code",
   "execution_count": 63,
   "metadata": {
    "ExecuteTime": {
     "end_time": "2017-06-22T22:13:39.536889Z",
     "start_time": "2017-06-22T22:13:39.524057Z"
    }
   },
   "outputs": [
    {
     "name": "stdout",
     "output_type": "stream",
     "text": [
      "[-1.     -0.9242 -0.6628  0.5826  0.841   0.9995 -1.     -0.9242 -0.6628\n",
      "  0.5826  0.841   0.9995 -1.     -0.9242 -0.6628  0.5826  0.841   0.9995\n",
      " -1.     -0.9242 -0.6628  0.5826  0.841   0.9995 -1.     -0.9242 -0.6628\n",
      "  0.5826  0.841   0.9995 -1.     -0.9242 -0.6628  0.5826  0.841   0.9995] [ 0.          0.          0.          0.          0.          0.\n",
      "  1.04719755  1.04719755  1.04719755  1.04719755  1.04719755  1.04719755\n",
      "  2.0943951   2.0943951   2.0943951   2.0943951   2.0943951   2.0943951\n",
      "  3.14159265  3.14159265  3.14159265  3.14159265  3.14159265  3.14159265\n",
      "  7.33038286  7.33038286  7.33038286  7.33038286  7.33038286  7.33038286\n",
      "  8.37758041  8.37758041  8.37758041  8.37758041  8.37758041  8.37758041] [   1.299         1.404         1.504         9.35          6.27          5.91\n",
      "    0.            0.            0.            0.            0.            0.\n",
      "    0.            1.47026536    3.14997023   29.37389131   45.96150052\n",
      "   49.51150022    0.            5.88106145   12.59988094  117.49556524\n",
      "  183.84600209  198.04600088    0.           13.23238826   28.34973211\n",
      "  264.3650218   413.6535047   445.60350199    0.           23.52424579\n",
      "   50.39952374  469.98226098  735.38400835  792.18400353]\n",
      "36 36 36\n"
     ]
    }
   ],
   "source": [
    "print matlabu, matlabphi,matlabg\n",
    "print len(matlabu), len(matlabphi), len(matlabg)"
   ]
  },
  {
   "cell_type": "code",
   "execution_count": 66,
   "metadata": {
    "ExecuteTime": {
     "end_time": "2017-06-22T22:14:13.563313Z",
     "start_time": "2017-06-22T22:14:13.554278Z"
    }
   },
   "outputs": [
    {
     "data": {
      "text/plain": [
       "array([   1.299     ,    1.404     ,    1.504     ,    9.35      ,\n",
       "          6.27      ,    5.91      ,    0.        ,    0.        ,\n",
       "          0.        ,    0.        ,    0.        ,    0.        ,\n",
       "          0.        ,    1.47026536,    3.14997023,   29.37389131,\n",
       "         45.96150052,   49.51150022,    0.        ,    5.88106145,\n",
       "         12.59988094,  117.49556524,  183.84600209,  198.04600088,\n",
       "          0.        ,   13.23238826,   28.34973211,  264.3650218 ,\n",
       "        413.6535047 ,  445.60350199,    0.        ,   23.52424579,\n",
       "         50.39952374,  469.98226098,  735.38400835,  792.18400353])"
      ]
     },
     "execution_count": 66,
     "metadata": {},
     "output_type": "execute_result"
    }
   ],
   "source": [
    "matlabg"
   ]
  },
  {
   "cell_type": "code",
   "execution_count": null,
   "metadata": {
    "collapsed": true
   },
   "outputs": [],
   "source": []
  }
 ],
 "metadata": {
  "kernelspec": {
   "display_name": "Python 3",
   "language": "python",
   "name": "python3"
  },
  "language_info": {
   "codemirror_mode": {
    "name": "ipython",
    "version": 3
   },
   "file_extension": ".py",
   "mimetype": "text/x-python",
   "name": "python",
   "nbconvert_exporter": "python",
   "pygments_lexer": "ipython3",
   "version": "3.6.2"
  }
 },
 "nbformat": 4,
 "nbformat_minor": 2
}
